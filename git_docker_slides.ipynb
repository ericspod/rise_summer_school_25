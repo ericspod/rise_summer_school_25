{
 "cells": [
  {
   "cell_type": "markdown",
   "id": "9f3d88b4-0baf-4208-80b5-863f304107bf",
   "metadata": {
    "editable": true,
    "slideshow": {
     "slide_type": "slide"
    },
    "tags": []
   },
   "source": [
    "# RISE Summer School 2025\n",
    "# Git and Docker\n",
    "\n",
    "## Eric Kerfoot, King's College London\n",
    "## July 18, 2025"
   ]
  },
  {
   "cell_type": "markdown",
   "id": "c3d7a2df-9a8f-4d5d-a2b9-2d4e180a289f",
   "metadata": {
    "editable": true,
    "slideshow": {
     "slide_type": "slide"
    },
    "tags": []
   },
   "source": [
    "* Talk will cover basic usage of Git and Docker, two very different technologies\n",
    "* Git is used to manage versioned source code and other documents both locally and in remote locations\n",
    "* Docker is a containerisation technology used to define working environments\n",
    "* Both will be important for your projects so we'll focus on what you need now rather than get into deep details"
   ]
  },
  {
   "cell_type": "markdown",
   "id": "22b10288-95d0-49a9-8e08-aa04a0b20714",
   "metadata": {
    "editable": true,
    "slideshow": {
     "slide_type": "slide"
    },
    "tags": []
   },
   "source": [
    "# Git\n",
    "* Source (or version) control involves organising the code files for a project in a known place with tools to keep track of change\n",
    "* Typically this means a set directory for code to live in, tools to track when changes are made and keep a history of those changes, and store the code with changes locally and remotely.\n",
    "* Git does this with a repository system and the `git` tool which operates with a `.git` subdirectory within repository directories\n",
    "* Github and other sites host repositories and interface with `git` to push and pull changes"
   ]
  },
  {
   "cell_type": "markdown",
   "id": "9df309c0-ad72-4095-aa0e-783c53fe8541",
   "metadata": {
    "editable": true,
    "slideshow": {
     "slide_type": "slide"
    },
    "tags": []
   },
   "source": [
    "## Installation\n",
    "\n",
    "* Read here: https://git-scm.com/downloads\n",
    "* GUI tools like GitAhead (https://gitahead.github.io/gitahead.com) can help\n",
    "* For Ubuntu, `sudo apt install git` "
   ]
  },
  {
   "cell_type": "markdown",
   "id": "0d3732ed-d7f6-42f8-b3ab-f5655efe40ba",
   "metadata": {
    "editable": true,
    "slideshow": {
     "slide_type": "slide"
    },
    "tags": []
   },
   "source": [
    "## Git Concepts\n",
    "* Important to understand concepts well early on\n",
    "* Git tracks the changes to files which have been committed (added) to a repo\n",
    "* Any time files are change a commit is made to add those changes to the repository state\n",
    "* The state of a repository thus represents a directed graph where each node is a state of the committed files\n",
    "* Branches can be made from commits to allow diverging versions of the code, and can be merged back together later"
   ]
  },
  {
   "cell_type": "markdown",
   "id": "89b0b838-3ef3-44cc-82df-e260d91f5acb",
   "metadata": {
    "editable": true,
    "slideshow": {
     "slide_type": "slide"
    },
    "tags": []
   },
   "source": [
    "## Version control - an illustration\n",
    "<img src='version_control.png' />"
   ]
  },
  {
   "cell_type": "markdown",
   "id": "5fc752ab-fbd6-4536-ae88-25fdd292c706",
   "metadata": {
    "editable": true,
    "slideshow": {
     "slide_type": "slide"
    },
    "tags": []
   },
   "source": [
    "## Starting a Repository\n",
    "* Any directory can be made into a repository using `git init`\n",
    "* A site like Github can be used to create a repository stored remotely which can then be \"cloned\" locally\n",
    "* This is probably what you want to do, the local clone will track who the remote repo is and allow you to \"push\" changes to the net"
   ]
  },
  {
   "cell_type": "markdown",
   "id": "39a25abc-fcc5-4524-a348-6f1edf4e5d14",
   "metadata": {
    "editable": true,
    "slideshow": {
     "slide_type": "slide"
    },
    "tags": []
   },
   "source": [
    "## Remote Repositories\n",
    "* Repositories can be hosted on remote systems accessed by HTTPS or SSH\n",
    "* Github is a common choice along with Gitlab and Bitbucket\n",
    "* A remote repository can be copied locally with `git clone` and will keep track of who its remote is and its URL\n",
    "* Commits and branches made locally in the clone can be pushed to the remote with `git push`, similarly `git pull` will bring down changes from the remote not in the clone"
   ]
  },
  {
   "cell_type": "markdown",
   "id": "f93bcc52-986f-4df8-bdb1-10133c0bc9e5",
   "metadata": {
    "editable": true,
    "slideshow": {
     "slide_type": "slide"
    },
    "tags": []
   },
   "source": [
    "* The repo for these slides can be cloned with:\n",
    "```sh\n",
    "git clone https://github.com/ericspod/rise_summer_school_25.git\n",
    "```\n",
    "* If you have your Github account setup with an ssh key you can use:\n",
    "```sh\n",
    "git clone git@github.com:ericspod/rise_summer_school_25.git\n",
    "```\n",
    "* There is an authentication difference between these\n",
    "* You won't be able to push changes to these as you don't have authorisation, but the clone is otherwise what one would use for collaborative work"
   ]
  },
  {
   "cell_type": "markdown",
   "id": "f3df6b20-ebc5-4e0e-be61-3d504c975820",
   "metadata": {
    "editable": true,
    "slideshow": {
     "slide_type": "slide"
    },
    "tags": []
   },
   "source": [
    "* For this workshop, you'll likely want to make a Github account, create a new repository through its interface, then clone it\n",
    "* Once cloned locally, you can copy your project into it, create a commit, and push it to the server\n",
    "* Go here: https://docs.github.com/en/get-started\n",
    "* First few tutorials will go through this process"
   ]
  },
  {
   "cell_type": "markdown",
   "id": "1d818893-6274-453e-879b-27cf2e5a9cf3",
   "metadata": {
    "editable": true,
    "slideshow": {
     "slide_type": "slide"
    },
    "tags": []
   },
   "source": [
    "* For now a local repository can be created to explore using git locally:"
   ]
  },
  {
   "cell_type": "code",
   "execution_count": 1,
   "id": "5aca5830-7f00-4c97-b6bd-c4c856f7cd85",
   "metadata": {
    "editable": true,
    "slideshow": {
     "slide_type": "fragment"
    },
    "tags": []
   },
   "outputs": [
    {
     "name": "stdout",
     "output_type": "stream",
     "text": [
      "Initialised empty Git repository in /home/localek10/workspace/rise_summer_school_25/local_repo/.git/\n",
      "total 12K\n",
      "drwxrwxr-x 3 localek10 localek10 4.0K Jul 11 22:49 .\n",
      "drwxrwxr-x 6 localek10 localek10 4.0K Jul 11 22:49 ..\n",
      "drwxrwxr-x 7 localek10 localek10 4.0K Jul 11 22:49 .git\n"
     ]
    }
   ],
   "source": [
    "%%bash \n",
    "mkdir local_repo\n",
    "cd local_repo\n",
    "git init -b main\n",
    "ls -alh"
   ]
  },
  {
   "cell_type": "markdown",
   "id": "341cf4a9-356a-4661-9a40-798c90d61fc9",
   "metadata": {
    "editable": true,
    "slideshow": {
     "slide_type": "slide"
    },
    "tags": []
   },
   "source": [
    "* This notebook can be run as the tutorial for this content so all cells can be executed\n",
    "* The following cells use bash to run commands, either as `%%bash` magic cells or with the `!` magic line\n",
    "* Commands are typically run within the repo `./local_repo` so the current working directory is changed here for convenience:"
   ]
  },
  {
   "cell_type": "code",
   "execution_count": null,
   "id": "69abe066-314a-46ff-9a68-8d08807bd70c",
   "metadata": {
    "editable": true,
    "slideshow": {
     "slide_type": "fragment"
    },
    "tags": []
   },
   "outputs": [],
   "source": [
    "%cd local_repo"
   ]
  },
  {
   "cell_type": "markdown",
   "id": "c524c1dd-ede4-47a9-87fd-ae205945b358",
   "metadata": {
    "editable": true,
    "slideshow": {
     "slide_type": "slide"
    },
    "tags": []
   },
   "source": [
    "* The `.git` hidden directory contains all the change information for the repo and much other data\n",
    "* Next write a file and commit it:"
   ]
  },
  {
   "cell_type": "code",
   "execution_count": 3,
   "id": "18bef2e7-cb6a-4be3-b6f6-4f0f1a4978b7",
   "metadata": {
    "editable": true,
    "slideshow": {
     "slide_type": "fragment"
    },
    "tags": []
   },
   "outputs": [],
   "source": [
    "%%bash\n",
    "cat - > test.txt << _EOF_\n",
    "a = 1\n",
    "b = 2\n",
    "c = 3\n",
    "_EOF_"
   ]
  },
  {
   "cell_type": "markdown",
   "id": "463c0df9-8da1-41da-9d5e-912770cae090",
   "metadata": {
    "editable": true,
    "slideshow": {
     "slide_type": "slide"
    },
    "tags": []
   },
   "source": [
    "* The current status of a repo can be seen with `git status`:"
   ]
  },
  {
   "cell_type": "code",
   "execution_count": 4,
   "id": "393b0e09-19bc-4736-a4fa-2d34b338cd8f",
   "metadata": {
    "editable": true,
    "slideshow": {
     "slide_type": "fragment"
    },
    "tags": []
   },
   "outputs": [
    {
     "name": "stdout",
     "output_type": "stream",
     "text": [
      "On branch main\n",
      "\n",
      "No commits yet\n",
      "\n",
      "Untracked files:\n",
      "  (use \"git add <file>...\" to include in what will be committed)\n",
      "\t\u001b[31mtest.txt\u001b[m\n",
      "\n",
      "nothing added to commit but untracked files present (use \"git add\" to track)\n"
     ]
    }
   ],
   "source": [
    "!git status"
   ]
  },
  {
   "cell_type": "markdown",
   "id": "c56eab82-bea8-4665-94eb-3c1ef45a842c",
   "metadata": {
    "editable": true,
    "slideshow": {
     "slide_type": "slide"
    },
    "tags": []
   },
   "source": [
    "* This file needs to be added to the repository, then the change committed to create a new state:"
   ]
  },
  {
   "cell_type": "code",
   "execution_count": 5,
   "id": "7cafda0f-c355-4d59-a087-3c989376d635",
   "metadata": {
    "editable": true,
    "slideshow": {
     "slide_type": "fragment"
    },
    "tags": []
   },
   "outputs": [
    {
     "name": "stdout",
     "output_type": "stream",
     "text": [
      "[main (root-commit) b4f80ad] Adding test.txt\n",
      " 1 file changed, 3 insertions(+)\n",
      " create mode 100644 test.txt\n"
     ]
    }
   ],
   "source": [
    "%%bash\n",
    "git add test.txt\n",
    "git commit -m \"Adding test.txt\""
   ]
  },
  {
   "cell_type": "markdown",
   "id": "1de123db-720e-4965-961c-e9fd489e89ad",
   "metadata": {
    "editable": true,
    "slideshow": {
     "slide_type": "slide"
    },
    "tags": []
   },
   "source": [
    "* The repo now has a commit in its history:"
   ]
  },
  {
   "cell_type": "code",
   "execution_count": 6,
   "id": "6593bf1e-7bdb-4030-ac88-2dc46a5fa1cd",
   "metadata": {
    "editable": true,
    "slideshow": {
     "slide_type": "fragment"
    },
    "tags": []
   },
   "outputs": [
    {
     "name": "stdout",
     "output_type": "stream",
     "text": [
      "\u001b[33mcommit b4f80ad155a8e600d75efbb8a37f6e56b7816c1e\u001b[m\u001b[33m (\u001b[m\u001b[1;36mHEAD\u001b[m\u001b[33m -> \u001b[m\u001b[1;32mmain\u001b[m\u001b[33m)\u001b[m\n",
      "Author: Eric Kerfoot <eric.kerfoot@kcl.ac.uk>\n",
      "Date:   Fri Jul 11 22:49:55 2025 +0100\n",
      "\n",
      "    Adding test.txt\n"
     ]
    }
   ],
   "source": [
    "!git log"
   ]
  },
  {
   "cell_type": "markdown",
   "id": "2abefc97-4c37-4ad9-8c2f-647cf4529a31",
   "metadata": {
    "editable": true,
    "slideshow": {
     "slide_type": "slide"
    },
    "tags": []
   },
   "source": [
    "* If `test.txt` is changed, `git status` will report this fact:"
   ]
  },
  {
   "cell_type": "code",
   "execution_count": 8,
   "id": "e274f805-3c11-4373-ae72-bf9f6d467e1b",
   "metadata": {
    "editable": true,
    "slideshow": {
     "slide_type": "fragment"
    },
    "tags": []
   },
   "outputs": [
    {
     "name": "stdout",
     "output_type": "stream",
     "text": [
      "diff --git a/test.txt b/test.txt\n",
      "index a9aeef0..27be8cc 100644\n",
      "--- a/test.txt\n",
      "+++ b/test.txt\n",
      "@@ -1,3 +1,3 @@\n",
      " a = 1\n",
      " b = 2\n",
      "-c = 3\n",
      "+c = 3333\n"
     ]
    }
   ],
   "source": [
    "%%bash\n",
    "cat - > test.txt << _EOF_\n",
    "a = 1\n",
    "b = 2\n",
    "c = 3333\n",
    "_EOF_\n",
    "git diff"
   ]
  },
  {
   "cell_type": "markdown",
   "id": "2172077f-2fbd-4efa-a30f-9517ce021e4a",
   "metadata": {
    "editable": true,
    "slideshow": {
     "slide_type": "slide"
    },
    "tags": []
   },
   "source": [
    "* This represents a change which isn't committed yet, so the history isn't recorded\n",
    "* Changing the file again will show a difference but the first change's history won't be kept\n",
    "* The file must be added and then committed to take a \"snapshot\" of its state:"
   ]
  },
  {
   "cell_type": "code",
   "execution_count": 9,
   "id": "b3b334a7-02cf-4eb1-97d8-ecff05a7baae",
   "metadata": {
    "editable": true,
    "slideshow": {
     "slide_type": "fragment"
    },
    "tags": []
   },
   "outputs": [
    {
     "name": "stdout",
     "output_type": "stream",
     "text": [
      "[main 334b63a] Updated test.txt\n",
      " 1 file changed, 1 insertion(+), 1 deletion(-)\n"
     ]
    }
   ],
   "source": [
    "%%bash\n",
    "git add test.txt\n",
    "git commit -m \"Updated test.txt\""
   ]
  },
  {
   "cell_type": "markdown",
   "id": "3e65ee4e-60b9-45b8-9f66-1558d684889c",
   "metadata": {
    "editable": true,
    "slideshow": {
     "slide_type": "slide"
    },
    "tags": []
   },
   "source": [
    "* The history of changes which have been committed can now be seen for this branch:"
   ]
  },
  {
   "cell_type": "code",
   "execution_count": 10,
   "id": "579dfe61-be94-4599-a241-035cc0cab1f7",
   "metadata": {
    "editable": true,
    "slideshow": {
     "slide_type": "fragment"
    },
    "tags": []
   },
   "outputs": [
    {
     "name": "stdout",
     "output_type": "stream",
     "text": [
      "\u001b[33mcommit 334b63af300e8b30c12c80f5ad034d65f85c9e6e\u001b[m\u001b[33m (\u001b[m\u001b[1;36mHEAD\u001b[m\u001b[33m -> \u001b[m\u001b[1;32mmain\u001b[m\u001b[33m)\u001b[m\n",
      "Author: Eric Kerfoot <eric.kerfoot@kcl.ac.uk>\n",
      "Date:   Fri Jul 11 22:52:04 2025 +0100\n",
      "\n",
      "    Updated test.txt\n",
      "\n",
      "\u001b[33mcommit b4f80ad155a8e600d75efbb8a37f6e56b7816c1e\u001b[m\n",
      "Author: Eric Kerfoot <eric.kerfoot@kcl.ac.uk>\n",
      "Date:   Fri Jul 11 22:49:55 2025 +0100\n",
      "\n",
      "    Adding test.txt\n"
     ]
    }
   ],
   "source": [
    "!git log"
   ]
  },
  {
   "cell_type": "markdown",
   "id": "d2cb6432-6bd0-4f87-9b5c-4dac2925b38d",
   "metadata": {
    "editable": true,
    "slideshow": {
     "slide_type": "slide"
    },
    "tags": []
   },
   "source": [
    "## Branches\n",
    "* Branches are references to specific commits, in the above this is `main`\n",
    "* Commits have parents, so each represents the cummulative changes its parents and itself store\n",
    "* Branches thus point to a state of the repo, as updates are made branches change to point to new states, or can be created to track divergent changes\n",
    "* A new branch can be made to make a new version of the codebase:"
   ]
  },
  {
   "cell_type": "code",
   "execution_count": 11,
   "id": "bfc8c02f-9a0c-46e1-90c3-308b717389e4",
   "metadata": {
    "editable": true,
    "slideshow": {
     "slide_type": "slide"
    },
    "tags": []
   },
   "outputs": [
    {
     "name": "stderr",
     "output_type": "stream",
     "text": [
      "Switched to branch 'new_branch'\n"
     ]
    }
   ],
   "source": [
    "%%bash\n",
    "git branch new_branch\n",
    "git checkout new_branch"
   ]
  },
  {
   "cell_type": "markdown",
   "id": "c4cbdff4-213e-4e14-8b4c-5b24d1674142",
   "metadata": {
    "editable": true,
    "slideshow": {
     "slide_type": "slide"
    },
    "tags": []
   },
   "source": [
    "* Changes made to files now will be tracked by this branch while `main` (the initial branch) will continue to refer to the previous state:"
   ]
  },
  {
   "cell_type": "code",
   "execution_count": 12,
   "id": "046a2bb9-bff2-4a4c-8db8-1e4c6bae0664",
   "metadata": {
    "editable": true,
    "slideshow": {
     "slide_type": "fragment"
    },
    "tags": []
   },
   "outputs": [
    {
     "name": "stdout",
     "output_type": "stream",
     "text": [
      "[new_branch bb54346] Update test.txt again\n",
      " 1 file changed, 1 insertion(+), 1 deletion(-)\n"
     ]
    }
   ],
   "source": [
    "%%bash\n",
    "cat - > test.txt << _EOF_\n",
    "a = 1\n",
    "b = 2222\n",
    "c = 3333\n",
    "_EOF_\n",
    "git commit -am \"Update test.txt again\""
   ]
  },
  {
   "cell_type": "markdown",
   "id": "dd79a939-a61c-4ffc-8399-a94425e30423",
   "metadata": {
    "editable": true,
    "slideshow": {
     "slide_type": "slide"
    },
    "tags": []
   },
   "source": [
    "* `main` can be checked out again which restores the files to the state it represents\n",
    "* Changes can be committed so that its state diverges from the new branch"
   ]
  },
  {
   "cell_type": "code",
   "execution_count": 13,
   "id": "5e6e284b-ae75-4cc6-82b7-3269c2a929fe",
   "metadata": {
    "editable": true,
    "slideshow": {
     "slide_type": "fragment"
    },
    "tags": []
   },
   "outputs": [
    {
     "name": "stderr",
     "output_type": "stream",
     "text": [
      "Switched to branch 'main'\n"
     ]
    },
    {
     "name": "stdout",
     "output_type": "stream",
     "text": [
      "[main 17daa22] Update test.txt in main\n",
      " 1 file changed, 1 insertion(+)\n"
     ]
    }
   ],
   "source": [
    "%%bash\n",
    "git checkout main\n",
    "echo 'd = 4' >> test.txt\n",
    "git commit -am \"Update test.txt in main\""
   ]
  },
  {
   "cell_type": "markdown",
   "id": "c64a1d21-5b71-4e9a-ac49-3e7ab9eb2a55",
   "metadata": {
    "editable": true,
    "slideshow": {
     "slide_type": "slide"
    },
    "tags": []
   },
   "source": [
    "* `git` can be used to print a visual representation of this divergence:"
   ]
  },
  {
   "cell_type": "code",
   "execution_count": 14,
   "id": "0f1fc26e-6b4d-4629-9b72-7e36c8e4d755",
   "metadata": {
    "editable": true,
    "slideshow": {
     "slide_type": "fragment"
    },
    "tags": []
   },
   "outputs": [
    {
     "name": "stdout",
     "output_type": "stream",
     "text": [
      "* \u001b[33m17daa22\u001b[m\u001b[33m (\u001b[m\u001b[1;36mHEAD\u001b[m\u001b[33m -> \u001b[m\u001b[1;32mmain\u001b[m\u001b[33m)\u001b[m Update test.txt in main\n",
      "\u001b[31m|\u001b[m * \u001b[33mbb54346\u001b[m\u001b[33m (\u001b[m\u001b[1;32mnew_branch\u001b[m\u001b[33m)\u001b[m Update test.txt again\n",
      "\u001b[31m|\u001b[m\u001b[31m/\u001b[m  \n",
      "* \u001b[33m334b63a\u001b[m Updated test.txt\n",
      "* \u001b[33mb4f80ad\u001b[m Adding test.txt\n"
     ]
    }
   ],
   "source": [
    "!git log --graph --oneline --all"
   ]
  },
  {
   "cell_type": "markdown",
   "id": "6cc8f9e3-560e-4a30-bc5b-59727e9dec11",
   "metadata": {
    "editable": true,
    "slideshow": {
     "slide_type": "slide"
    },
    "tags": []
   },
   "source": [
    "* Changes in `new_branch` can be incorporated into the current branch (`main`) with merging:"
   ]
  },
  {
   "cell_type": "code",
   "execution_count": 15,
   "id": "0c31ba22-511e-41c9-8f1f-82dc4303e413",
   "metadata": {
    "editable": true,
    "slideshow": {
     "slide_type": "fragment"
    },
    "tags": []
   },
   "outputs": [
    {
     "name": "stdout",
     "output_type": "stream",
     "text": [
      "Auto-merging test.txt\n",
      "Merge made by the 'ort' strategy.\n",
      " test.txt | 2 +-\n",
      " 1 file changed, 1 insertion(+), 1 deletion(-)\n",
      "*   ee0391e Merge branch 'new_branch'\n",
      "|\\  \n",
      "| * bb54346 Update test.txt again\n",
      "* | 17daa22 Update test.txt in main\n",
      "|/  \n",
      "* 334b63a Updated test.txt\n",
      "* b4f80ad Adding test.txt\n"
     ]
    }
   ],
   "source": [
    "%%bash\n",
    "git merge new_branch\n",
    "git log --graph --oneline --all"
   ]
  },
  {
   "cell_type": "markdown",
   "id": "a78153fd-9acc-44d9-b2b3-133486308759",
   "metadata": {
    "editable": true,
    "slideshow": {
     "slide_type": "slide"
    },
    "tags": []
   },
   "source": [
    "* Able to merge because the changes made to the file weren't conflicting in any way\n",
    "* Conflicts occur when merging branches if changes from merged branch overlap those in the merging branch, ie. a file was modified in both branches after they diverged\n",
    "* Conflicts must be resolved, `git` can do a lot but often one has to manually resolve issues\n",
    "* For this project avoid this by sticking to one branch for your changes"
   ]
  },
  {
   "cell_type": "markdown",
   "id": "379b2983-ef10-4cde-9e0c-dec6cb60b3a0",
   "metadata": {
    "editable": true,
    "slideshow": {
     "slide_type": "slide"
    },
    "tags": []
   },
   "source": [
    "## Not Covered\n",
    "* Many topics are not covered here for brevity\n",
    "* A detached HEAD is a state where the current repo points to a commit rather than a named branch, badly named and complex to deal with\n",
    "* Rebasing to align changes between branches that isn't a merge commit\n",
    "* `git push` wasn't used here but should be to push anything committed when using a remote repo\n",
    "* Remote URLs and other configuration\n",
    "* Tags, cherry picking, and many other git commands\n",
    "* Pull Requests and many other collaborative features"
   ]
  },
  {
   "cell_type": "markdown",
   "id": "2e8a0db9-ccf2-4501-996a-85f124cac1d9",
   "metadata": {
    "editable": true,
    "slideshow": {
     "slide_type": "slide"
    },
    "tags": []
   },
   "source": [
    "# Docker\n",
    "\n",
    "* Set of tools and applications for containerisation, that is creating a running self-contained operating system environment\n",
    "* Unlike virtual machines, a container runs using the host OS rather than sitting on top of virtualised hardware as the OS itself\n",
    "* Other technologies like Apptainer or Podman provide similar facilities\n",
    "* Used to package software systems into portable deployable units called images containing all needed libraries"
   ]
  },
  {
   "cell_type": "markdown",
   "id": "efc88851-3902-43ed-9438-e604f024e0f2",
   "metadata": {
    "editable": true,
    "slideshow": {
     "slide_type": "slide"
    },
    "tags": []
   },
   "source": [
    "* Advantage is that everything your app needs can be packaged into one place\n",
    "* Any time this container is run again it won't rely on OS libraries, so long as the container layer doesn't change your container will run\n",
    "* Dockers works by building an image from a script-like file specifying commands\n",
    "* Images are stored services called registries or (less commonly) to archive files\n",
    "* Containers are started from named images and often a command to run within the container\n",
    "* File system is entirely what the image provides plus whatever directories are chosen to be mounted from the host"
   ]
  },
  {
   "cell_type": "markdown",
   "id": "d58ab605-4616-4f28-a5ad-87df72303a6d",
   "metadata": {
    "editable": true,
    "slideshow": {
     "slide_type": "slide"
    },
    "tags": []
   },
   "source": [
    "* Invoking Docker on the command line to run an image (first `cd` back to the root of this exercise):"
   ]
  },
  {
   "cell_type": "code",
   "execution_count": null,
   "id": "5f6ac1da-6f8c-4ca3-ac23-cfed2d3a16de",
   "metadata": {
    "editable": true,
    "slideshow": {
     "slide_type": "fragment"
    },
    "tags": []
   },
   "outputs": [],
   "source": [
    "%cd .."
   ]
  },
  {
   "cell_type": "code",
   "execution_count": 23,
   "id": "89957fa1-51b9-4fce-9671-e2b9f69db9b0",
   "metadata": {
    "editable": true,
    "slideshow": {
     "slide_type": "fragment"
    },
    "tags": []
   },
   "outputs": [
    {
     "name": "stdout",
     "output_type": "stream",
     "text": [
      " _______________\n",
      "< Hello Docker! >\n",
      " ---------------\n",
      "        \\   ^__^\n",
      "         \\  (oo)\\_______\n",
      "            (__)\\       )\\/\\\n",
      "                ||----w |\n",
      "                ||     ||\n"
     ]
    }
   ],
   "source": [
    "%%bash\n",
    "docker run grycap/cowsay /usr/games/cowsay \"Hello Docker!\""
   ]
  },
  {
   "cell_type": "markdown",
   "id": "abe0467f-1172-4049-9d27-59b025429bdc",
   "metadata": {
    "editable": true,
    "slideshow": {
     "slide_type": "fragment"
    },
    "tags": []
   },
   "source": [
    "* Command will look for the image named (or tagged) `grycap/cowsay` which is the \"cowsay\" image provided by user \"grycap\" on Docker Hub (the default registry)"
   ]
  },
  {
   "cell_type": "markdown",
   "id": "9086eba0-4e84-41f2-bc4d-6d666075f79e",
   "metadata": {
    "editable": true,
    "slideshow": {
     "slide_type": "slide"
    },
    "tags": []
   },
   "source": [
    "* Containers that aren't explicitly cleaned up will persist with viewable logs, you can see these with `docker containers` command:"
   ]
  },
  {
   "cell_type": "code",
   "execution_count": 24,
   "id": "246ac9a6-50b7-4d17-8b18-d7c53a79449f",
   "metadata": {
    "editable": true,
    "slideshow": {
     "slide_type": "fragment"
    },
    "tags": []
   },
   "outputs": [
    {
     "name": "stdout",
     "output_type": "stream",
     "text": [
      "CONTAINER ID   IMAGE           COMMAND                  CREATED         STATUS                     PORTS     NAMES\n",
      "7e109afc3d97   grycap/cowsay   \"/usr/games/cowsay '…\"   3 seconds ago   Exited (0) 2 seconds ago             adoring_bhabha\n",
      "5cb07983cdda   grycap/cowsay   \"/usr/games/cowsay '…\"   9 seconds ago   Exited (0) 7 seconds ago             sweet_newton\n"
     ]
    }
   ],
   "source": [
    "!docker container ls -a"
   ]
  },
  {
   "cell_type": "markdown",
   "id": "a92f6ace-e5d5-4695-88a8-b418afb3b755",
   "metadata": {
    "editable": true,
    "slideshow": {
     "slide_type": "fragment"
    },
    "tags": []
   },
   "source": [
    "* Images that you have locally can be viewed with the `docker images` command:"
   ]
  },
  {
   "cell_type": "code",
   "execution_count": 26,
   "id": "1bdc481b-ef23-4063-b245-57c9b0a1da4b",
   "metadata": {
    "editable": true,
    "slideshow": {
     "slide_type": "fragment"
    },
    "tags": []
   },
   "outputs": [
    {
     "name": "stdout",
     "output_type": "stream",
     "text": [
      "REPOSITORY      TAG         IMAGE ID       CREATED        SIZE\n",
      "cowsaypy        latest      f4b3ce4527ac   22 hours ago   133MB\n",
      "in_out          latest      3d8c31d4552a   11 days ago    11MB\n",
      "monai_101       latest      b0c155add529   11 days ago    5.77GB\n",
      "min_pt          latest      025ffba75b8e   11 days ago    5.82GB\n",
      "ubuntu          24.04       bf16bdcff9c9   6 weeks ago    78.1MB\n",
      "python          3.12-slim   3d1d8f39b99d   3 months ago   124MB\n",
      "alpine          latest      aded1e1a5b37   4 months ago   7.83MB\n",
      "ubuntu          latest      a04dc4851cbc   5 months ago   78.1MB\n",
      "hello-world     latest      74cc54e27dc4   5 months ago   10.1kB\n",
      "grycap/cowsay   latest      80cd02790675   8 years ago    166MB\n"
     ]
    }
   ],
   "source": [
    "!docker images"
   ]
  },
  {
   "cell_type": "markdown",
   "id": "5c7939ea-cbc0-46e0-9822-2da2548378be",
   "metadata": {
    "editable": true,
    "slideshow": {
     "slide_type": "slide"
    },
    "tags": []
   },
   "source": [
    "* To create an image, define a `Dockerfile` file within a project's directory which will contain the commands to configure the image for the project\n",
    "* This will select the base image to build on top of, copy files into the image from the project, install whatever is needed in the image, and define an entry point (or command)\n",
    "* The Dockerfile has its own command language, eg. `COPY` and `RUN` for copying files into the image and running commands"
   ]
  },
  {
   "cell_type": "markdown",
   "id": "cf127503-ae44-4444-8742-b9e5b2e2242c",
   "metadata": {
    "editable": true,
    "slideshow": {
     "slide_type": "slide"
    },
    "tags": []
   },
   "source": [
    "* Write out a simple Dockerfile:"
   ]
  },
  {
   "cell_type": "code",
   "execution_count": 16,
   "id": "d3dda982",
   "metadata": {
    "editable": true,
    "slideshow": {
     "slide_type": "fragment"
    },
    "tags": []
   },
   "outputs": [
    {
     "name": "stdout",
     "output_type": "stream",
     "text": [
      "Writing Dockerfile\n"
     ]
    }
   ],
   "source": [
    "%%writefile Dockerfile\n",
    "\n",
    "FROM python:3.12-slim  \n",
    "RUN pip install cowsay\n",
    "WORKDIR /app\n",
    "COPY myapp.py /app\n",
    "CMD [\"python\",\"myapp.py\"]"
   ]
  },
  {
   "cell_type": "markdown",
   "id": "8e832aec-1d0d-4955-90a6-913aa365a34a",
   "metadata": {
    "editable": true,
    "slideshow": {
     "slide_type": "slide"
    },
    "tags": []
   },
   "source": [
    "* `FROM` defines the base image, in this case a simple Python image based on Debian\n",
    "* `RUN` specifies a command to execute at build time, __not__ runtime, which configure the environment\n",
    "* `WORKDIR` specifies a working current directory\n",
    "* `COPY` copies data from the host into the image, here only the script file\n",
    "* `CMD` specifies the command to run when the container starts (this can be replaced unlike `ENTRYPOINT`)\n",
    "* A few other important commands, there can be multiple `RUN` and `COPY` commands"
   ]
  },
  {
   "cell_type": "markdown",
   "id": "7475e29f",
   "metadata": {
    "editable": true,
    "slideshow": {
     "slide_type": "slide"
    },
    "tags": []
   },
   "source": [
    "* Need to write out the example script:"
   ]
  },
  {
   "cell_type": "code",
   "execution_count": 17,
   "id": "a2fe2edc",
   "metadata": {
    "editable": true,
    "slideshow": {
     "slide_type": "fragment"
    },
    "tags": []
   },
   "outputs": [
    {
     "name": "stdout",
     "output_type": "stream",
     "text": [
      "Writing myapp.py\n"
     ]
    }
   ],
   "source": [
    "%%writefile myapp.py\n",
    "import cowsay\n",
    "cowsay.cow(\"Hello Docker!\")"
   ]
  },
  {
   "cell_type": "markdown",
   "id": "fb0a5930-9470-4ef6-9b01-a71db0d73798",
   "metadata": {
    "editable": true,
    "slideshow": {
     "slide_type": "slide"
    },
    "tags": []
   },
   "source": [
    "* Next the image is built:"
   ]
  },
  {
   "cell_type": "code",
   "execution_count": 18,
   "id": "31f3e6ea",
   "metadata": {
    "editable": true,
    "slideshow": {
     "slide_type": "fragment"
    },
    "tags": []
   },
   "outputs": [
    {
     "name": "stdout",
     "output_type": "stream",
     "text": [
      "sha256:f4b3ce4527ac36ed3c8f2d454360e35ac6a8bacde641b40cc6b9aea8eff33722\n"
     ]
    }
   ],
   "source": [
    "!docker build -q . -t cowsaypy"
   ]
  },
  {
   "cell_type": "markdown",
   "id": "42996e63",
   "metadata": {
    "editable": true,
    "slideshow": {
     "slide_type": "fragment"
    },
    "tags": []
   },
   "source": [
    "* Uses `Dockerfile` to make the image we've tagged as `cowsaypy`\n",
    "* `-q` makes the command quiet for this notebook, remove to see all the output of what happens"
   ]
  },
  {
   "cell_type": "markdown",
   "id": "3e8076e8",
   "metadata": {
    "editable": true,
    "slideshow": {
     "slide_type": "slide"
    },
    "tags": []
   },
   "source": [
    "* The app can now be run "
   ]
  },
  {
   "cell_type": "code",
   "execution_count": 19,
   "id": "958e101e",
   "metadata": {
    "editable": true,
    "slideshow": {
     "slide_type": "fragment"
    },
    "tags": []
   },
   "outputs": [
    {
     "name": "stdout",
     "output_type": "stream",
     "text": [
      "  _____________\n",
      "| Hello Docker! |\n",
      "  =============\n",
      "             \\\n",
      "              \\\n",
      "                ^__^\n",
      "                (oo)\\_______\n",
      "                (__)\\       )\\/\\\n",
      "                    ||----w |\n",
      "                    ||     ||\n"
     ]
    }
   ],
   "source": [
    "!docker run --rm cowsaypy"
   ]
  },
  {
   "cell_type": "markdown",
   "id": "2bd03406",
   "metadata": {
    "editable": true,
    "slideshow": {
     "slide_type": "fragment"
    },
    "tags": []
   },
   "source": [
    "* `docker run` can have a lot of arguments for many features\n",
    "* Here `--rm` ensure the container is cleaned up once it finishes\n",
    "* If `-ti` is given and `/bin/bash` added to the end, the command will start the container in interactive mode with a bash prompt rather than run `myapp.py`"
   ]
  },
  {
   "cell_type": "markdown",
   "id": "8f76e495-32dd-4eda-9fef-236b8cd3e2d8",
   "metadata": {
    "editable": true,
    "slideshow": {
     "slide_type": "slide"
    },
    "tags": []
   },
   "source": [
    "* Data is typically transferred to and from running containers with mounted directories\n",
    "* `-v` flag indicates a mount point and is specified with the absolute path of the host directory and where it will be mounted in the container\n",
    "* Eg. mount the curret directory at `/curdir` in a running `cowsaypy` instance, instead of running the cow script run `ls` to inspect what was mounted:"
   ]
  },
  {
   "cell_type": "code",
   "execution_count": 20,
   "id": "83972b80-96c7-40f1-8fce-c687caf2187b",
   "metadata": {
    "editable": true,
    "slideshow": {
     "slide_type": "fragment"
    },
    "tags": []
   },
   "outputs": [
    {
     "name": "stdout",
     "output_type": "stream",
     "text": [
      "total 12K\n",
      "-rw-rw-r-- 1 1001 1001 106 Jul 11 22:46 Dockerfile\n",
      "-rw-rw-r-- 1 1001 1001  42 Jul 11 22:46 myapp.py\n",
      "-rw-rw-r-- 1 1001 1001  30 Jul 11 21:54 test.txt\n"
     ]
    }
   ],
   "source": [
    "!docker run --rm -v $(pwd):/curdir cowsaypy /bin/ls -lh /curdir"
   ]
  },
  {
   "cell_type": "markdown",
   "id": "5b5fff02",
   "metadata": {
    "editable": true,
    "slideshow": {
     "slide_type": "slide"
    },
    "tags": []
   },
   "source": [
    "* Images can be exported with `docker save` but typically are shared by uploading to registries like Dockerhub\n",
    "* `docker save cowsaypy | gzip > cowsaypy.tgz`  will save the above image\n",
    "* Big images can be very onerous to package this way, use a registry when you can\n",
    "* Dockerhub has a huge number of images for many tasks, eg. Python of various flavours like the ones seen here, Pytorch and other big frameworks have their own, Nvidia provides many CUDA ready images through their own channels\n",
    "* Images are often used together, so getting one for a database and another for a front end is common\n",
    "* Use existing images where possible, don't needlessly reinvent the wheel"
   ]
  },
  {
   "cell_type": "markdown",
   "id": "163bd06d-eaef-4dfd-a4f7-b6ec217d1d94",
   "metadata": {
    "editable": true,
    "jp-MarkdownHeadingCollapsed": true,
    "slideshow": {
     "slide_type": "slide"
    },
    "tags": []
   },
   "source": [
    "## Not Covered\n",
    "* Many more command line arguments to `docker run` for mounting locations, controlling network access, setting ulimit related things, selecting GPUs, etc. so read docs: https://docs.docker.com/reference/cli/docker/container/run/\n",
    "* Other commands and techniques for working with Dockerfile\n",
    "* Layers and optimisation in Dockerfile construction\n",
    "* Any Docker Compose or other orchestration tools\n",
    "* Other container frameworks like Apptainer which have their own properties\n",
    "* Look to the example files for further techniques and explanation"
   ]
  },
  {
   "cell_type": "markdown",
   "id": "ae49b2aa-5a35-4c82-97e4-346349276e6f",
   "metadata": {
    "editable": true,
    "slideshow": {
     "slide_type": "slide"
    },
    "tags": []
   },
   "source": [
    "# Thanks!\n",
    "\n",
    "## Questions?"
   ]
  }
 ],
 "metadata": {
  "kernelspec": {
   "display_name": "Python 3 (ipykernel)",
   "language": "python",
   "name": "python3"
  },
  "language_info": {
   "codemirror_mode": {
    "name": "ipython",
    "version": 3
   },
   "file_extension": ".py",
   "mimetype": "text/x-python",
   "name": "python",
   "nbconvert_exporter": "python",
   "pygments_lexer": "ipython3",
   "version": "3.12.11"
  }
 },
 "nbformat": 4,
 "nbformat_minor": 5
}
